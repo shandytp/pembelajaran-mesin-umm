{
 "cells": [
  {
   "cell_type": "markdown",
   "metadata": {},
   "source": [
    "# Kontrak Kuliah Machine Learning"
   ]
  },
  {
   "cell_type": "markdown",
   "metadata": {},
   "source": [
    "Tugas Besar :\n",
    "- Luaran tugas besar berupa paper dan aplikasi\n",
    "- Presentasi pertemuan pertama setelah UTS\n",
    "- 1 Kelompok max 2 orang\n",
    "- Tool : Google Colab\n",
    "\n",
    "Yang dibahas :\n",
    "\n",
    "- Dataset\n",
    "- Classification\n",
    "- Clustering\n",
    "- NLP\n",
    "- Image Retrieval\n",
    "- Image Recognition\n",
    "- Deep Learning\n",
    "\n",
    "Penilaian :\n",
    "- UTS (Mini Project) 20%\n",
    "- UAS (Paper) 30%\n",
    "- Tugas Besar (Aplikasi) 30%\n",
    "- Tugas 20%"
   ]
  },
  {
   "cell_type": "markdown",
   "metadata": {},
   "source": [
    "# Silabus"
   ]
  },
  {
   "cell_type": "markdown",
   "metadata": {},
   "source": [
    "Section 1 : ANN\n",
    "- ANN Basics\n",
    "- Intro to Machine Learning\n",
    "- Intro to Deep Learning\n",
    "- Neural Networks architecture\n",
    "- Training Neural Network\n",
    "- Loss and Neural Network\n",
    "\n",
    "Section 2 : Data topics for Deep Learning\n",
    "- Datasets for deep learning\n",
    "- Predicting with neural networks\n",
    "- Over and under fitting data\n",
    "- Supervised, unsupervised and semi-supervised learning\n",
    "- Data augmentation\n",
    "- One hot encoding\n",
    "\n",
    "Section 3 : Convolutional Neural Networks (CNNs)\n",
    "- What are CNN?\n",
    "- Visualizing convolutional filters\n",
    "- Zero padding\n",
    "- Max pooling\n",
    "\n",
    "Section 4 : Backpropagation\n",
    "- Backdrop intuition\n",
    "- Vanishing and exploding gradient\n",
    "- Weight initialization\n",
    "\n",
    "Section 5 : Additional deep learning concepts\n",
    "- Regularization\n",
    "- Batches and batch size\n",
    "- Fine tuning and Transfer Learning\n",
    "- Batch Normalization"
   ]
  }
 ],
 "metadata": {
  "kernelspec": {
   "display_name": "Python 3.7.6 64-bit ('tensorflow': conda)",
   "language": "python",
   "name": "python37664bittensorflowcondae25139d521174ed8abc6d94fb10b9a60"
  },
  "language_info": {
   "codemirror_mode": {
    "name": "ipython",
    "version": 3
   },
   "file_extension": ".py",
   "mimetype": "text/x-python",
   "name": "python",
   "nbconvert_exporter": "python",
   "pygments_lexer": "ipython3",
   "version": "3.7.6"
  }
 },
 "nbformat": 4,
 "nbformat_minor": 2
}
